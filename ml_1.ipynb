{
  "nbformat": 4,
  "nbformat_minor": 0,
  "metadata": {
    "colab": {
      "provenance": [],
      "authorship_tag": "ABX9TyN/jvlBHQ9TYyglSOsD2hiI",
      "include_colab_link": true
    },
    "kernelspec": {
      "name": "python3",
      "display_name": "Python 3"
    },
    "language_info": {
      "name": "python"
    }
  },
  "cells": [
    {
      "cell_type": "markdown",
      "metadata": {
        "id": "view-in-github",
        "colab_type": "text"
      },
      "source": [
        "<a href=\"https://colab.research.google.com/github/cs-sally/machine_learning/blob/main/ml_1.ipynb\" target=\"_parent\"><img src=\"https://colab.research.google.com/assets/colab-badge.svg\" alt=\"Open In Colab\"/></a>"
      ]
    },
    {
      "cell_type": "markdown",
      "source": [
        "### Machine Lerning Intro ###\n",
        "#### Scenario ####\n",
        "* Project: prediect of various houses value (price)\n",
        "* Your cousin: funding\n",
        "* You: data scientist\n",
        "* prediction mothod: past home pricing patterns for reference\n",
        "\n",
        "##### How machine learning works #####\n",
        "* **Decision Tree** model: basic, easy model to building block\n",
        "* **Financier** models is more accurate, but not use here.\n",
        "\n",
        "##### Training Model and Data #####\n",
        "* **Traiding Model(Fitting model)**: The **step** of capturing **patterns** from data.\n",
        "* **Training data(Fitting data)**: The data used to train (fit) the model\n",
        "\n",
        "---\n",
        "\n",
        "#### Improving the Decision Tree ####\n",
        "* **split**: factoring\n",
        "* **deeper trees**: one tree has splits by **more factors**\n",
        "* **leaf**: the prediction, the point at them bottom\n",
        "* **split and value of the leaf**: determind by data\n"
      ],
      "metadata": {
        "id": "2nBkuMNfeuUh"
      }
    }
  ]
}